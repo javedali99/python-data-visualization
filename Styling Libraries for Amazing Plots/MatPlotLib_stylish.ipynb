{
  "cells": [
    {
      "cell_type": "markdown",
      "metadata": {},
      "source": [
        "**Medium Article:** [Matplotlib Makeover: 6 Python Styling Libraries for Amazing Plots](https://medium.com/@alexroz/matplotlib-makeover-6-python-styling-libraries-for-amazing-plots-5152f16992f5)\n",
        "\n",
        "Matplotlib is a great library for creating static, animated, and interactive visualizations in Python. However, it can be a bit tedious to style your plots to make them look professional. In this notebook, we will explore six Python libraries that can help you style your Matplotlib plots with minimal effort. These libraries are:\n",
        "\n",
        "1. Aquarel (https://github.com/lgienapp/aquarel)\n",
        "2. Rosé Pine (https://github.com/h4pZ/rose-pine-matplotlib)\n",
        "3. Catppuccin (https://github.com/catppuccin/matplotlib)\n",
        "4. mplcyberpunk (https://github.com/dhaitz/mplcyberpunk)\n",
        "5. matplotx (https://github.com/nschloe/matplotx)\n",
        "6. GruvBox (https://github.com/thriveth/gruvbox-mpl/tree/master)\n",
        "   "
      ]
    },
    {
      "cell_type": "code",
      "execution_count": null,
      "metadata": {
        "colab": {
          "base_uri": "https://localhost:8080/"
        },
        "id": "-RAZFlO2Iec7",
        "outputId": "54bb2bb8-d0df-49bd-ba05-4e31d9b2d424"
      },
      "outputs": [],
      "source": [
        "!pip install aquarel catppuccin-matplotlib mplcyberpunk matplotx vapeplot"
      ]
    },
    {
      "cell_type": "markdown",
      "metadata": {},
      "source": []
    },
    {
      "cell_type": "code",
      "execution_count": 1,
      "metadata": {
        "id": "b57mAKn5JnUj"
      },
      "outputs": [],
      "source": [
        "import matplotlib\n",
        "import matplotlib.pyplot as plt\n",
        "import numpy as np\n",
        "import pandas as pd\n",
        "import seaborn as sns\n",
        "\n",
        "from aquarel import load_theme\n",
        "import mplcatppuccin\n",
        "import mplcyberpunk\n",
        "import matplotx\n",
        "%matplotlib inline"
      ]
    },
    {
      "cell_type": "code",
      "execution_count": 2,
      "metadata": {
        "id": "nUytFTIRWOlM"
      },
      "outputs": [],
      "source": [
        "def scatter():\n",
        "  x = np.random.random(100)\n",
        "  y = x-np.random.random(100)\n",
        "  z = np.random.randint(0,4,100)\n",
        "  df = pd.DataFrame({'X':x, 'Y': y, 'Z':z})\n",
        "  return df\n",
        "\n",
        "def line():\n",
        "  x = np.arange(0,10,0.1)\n",
        "  y_1 = np.sin(x)\n",
        "  y_2 = np.sin(x+5)\n",
        "  y_3 = np.sin(x+10)\n",
        "  y_4 = np.sin(x+15)\n",
        "  y_5 = np.sin(x+20)\n",
        "  df = pd.DataFrame({'X':x,'y_1':y_1, 'y_2':y_2, 'y_3':y_3, 'y_4':y_4, 'y_5':y_5})\n",
        "  return df\n",
        "\n",
        "def hist():\n",
        "  x_1 = np.random.normal(1,0.1,1000)\n",
        "  x_2 = np.random.gamma(1,0.25,1000)\n",
        "  x_3 = np.random.normal(0.4, 0.1,1000)\n",
        "  x_4 = np.random.normal(-0.1, 0.3,1000)\n",
        "\n",
        "  df = pd.DataFrame({'X_1': x_1, 'X_2':x_2, 'X_3': x_3, 'X_4':x_4})\n",
        "  return df"
      ]
    },
    {
      "cell_type": "code",
      "execution_count": null,
      "metadata": {
        "id": "gF28vThSXn8D"
      },
      "outputs": [],
      "source": [
        "plt.style.use('./themes/rose-pine-moon.mplstyle')"
      ]
    },
    {
      "cell_type": "code",
      "execution_count": null,
      "metadata": {
        "colab": {
          "base_uri": "https://localhost:8080/",
          "height": 863
        },
        "id": "R9bD5Ft9NECl",
        "outputId": "3351c057-36f0-4153-faa5-a68ea4992580"
      },
      "outputs": [],
      "source": [
        "fig, ax = plt.subplots(ncols=2, nrows=2, figsize=(16,9))\n",
        "df = scatter()\n",
        "f= ax[0,0].scatter(df.X,df.Y, c=df.Z, s=50)\n",
        "ax[0,0].set_xlabel('X data')\n",
        "ax[0,0].set_ylabel('Y data')\n",
        "handles, labels = f.legend_elements(prop=\"colors\", alpha=0.6)\n",
        "legend2 = ax[0,0].legend(handles, labels, loc=\"lower right\")\n",
        "\n",
        "df=line()\n",
        "df.plot(x='X', ax=ax[0,1])\n",
        "\n",
        "df=hist()\n",
        "sns.kdeplot(df, fill=True, ax=ax[1,0])\n",
        "ax[1,0].set_xlabel('Value')\n",
        "\n",
        "sns.kdeplot(df, x=\"X_1\", y=\"X_2\", fill=True, ax=ax[1,1])\n",
        "sns.kdeplot(df, x=\"X_3\", y=\"X_4\",fill=True, ax=ax[1,1])\n",
        "ax[1,1].set_xlabel('Dist 1')\n",
        "ax[1,1].set_ylabel('Dist 2')\n",
        "\n",
        "plt.suptitle('Rosé-Pine-Moon', fontsize=24)\n",
        "plt.savefig('rose-pine.jpg')\n",
        "plt.show()"
      ]
    },
    {
      "cell_type": "code",
      "execution_count": null,
      "metadata": {
        "colab": {
          "base_uri": "https://localhost:8080/",
          "height": 1000
        },
        "id": "f9cIt-8SOxzB",
        "outputId": "cf8ee407-009b-4aec-a630-1a5d11a0ee63"
      },
      "outputs": [],
      "source": [
        "with load_theme(\"arctic_light\"):\n",
        "\n",
        "  fig, ax = plt.subplots(ncols=2, nrows=2, figsize=(16,9))\n",
        "  df = scatter()\n",
        "  f= ax[0,0].scatter(df.X,df.Y, c=df.Z, s=50)\n",
        "  ax[0,0].set_xlabel('X data')\n",
        "  ax[0,0].set_ylabel('Y data')\n",
        "  handles, labels = f.legend_elements(prop=\"colors\", alpha=0.6)\n",
        "  legend2 = ax[0,0].legend(handles, labels, loc=\"lower right\")\n",
        "\n",
        "  df=line()\n",
        "  df.plot(x='X', ax=ax[0,1])\n",
        "\n",
        "  df=hist()\n",
        "  sns.kdeplot(df, fill=True, ax=ax[1,0])\n",
        "  ax[1,0].set_xlabel('Value')\n",
        "\n",
        "  sns.kdeplot(df, x=\"X_1\", y=\"X_2\", fill=True, ax=ax[1,1])\n",
        "  sns.kdeplot(df, x=\"X_3\", y=\"X_4\",fill=True, ax=ax[1,1])\n",
        "  ax[1,1].set_xlabel('Dist 1')\n",
        "  ax[1,1].set_ylabel('Dist 2')\n",
        "\n",
        "  plt.suptitle('Aquarel\\narctic_light', fontsize=24)\n",
        "  plt.savefig('arctic_light.jpg')\n",
        "  plt.show()"
      ]
    },
    {
      "cell_type": "code",
      "execution_count": null,
      "metadata": {
        "colab": {
          "base_uri": "https://localhost:8080/",
          "height": 864
        },
        "id": "EubMf35zOUtw",
        "outputId": "5c8d79e8-0c8c-4ce0-b202-81af7967c68c"
      },
      "outputs": [],
      "source": [
        "matplotlib.style.use(['seaborn-v0_8-dark', \"seaborn-v0_8\"])\n",
        "\n",
        "fig, ax = plt.subplots(ncols=2, nrows=2, figsize=(16,9))\n",
        "df = scatter()\n",
        "f= ax[0,0].scatter(df.X,df.Y, c=df.Z, s=50)\n",
        "ax[0,0].set_xlabel('X data')\n",
        "ax[0,0].set_ylabel('Y data')\n",
        "handles, labels = f.legend_elements(prop=\"colors\", alpha=0.6)\n",
        "legend2 = ax[0,0].legend(handles, labels, loc=\"lower right\")\n",
        "\n",
        "df=line()\n",
        "df.plot(x='X', ax=ax[0,1])\n",
        "\n",
        "df=hist()\n",
        "sns.kdeplot(df, fill=True, ax=ax[1,0])\n",
        "ax[1,0].set_xlabel('Value')\n",
        "\n",
        "sns.kdeplot(df, x=\"X_1\", y=\"X_2\", fill=True, ax=ax[1,1])\n",
        "sns.kdeplot(df, x=\"X_3\", y=\"X_4\",fill=True, ax=ax[1,1])\n",
        "ax[1,1].set_xlabel('Dist 1')\n",
        "ax[1,1].set_ylabel('Dist 2')\n",
        "\n",
        "plt.suptitle('Catppuccin', fontsize=24)\n",
        "plt.savefig('mocha_seaborn.png')\n",
        "plt.show()"
      ]
    },
    {
      "cell_type": "code",
      "execution_count": null,
      "metadata": {
        "colab": {
          "base_uri": "https://localhost:8080/",
          "height": 1000
        },
        "id": "LIgaR6oVlUd-",
        "outputId": "1ee89367-e058-438b-e01f-fe4fd0e9ec7b"
      },
      "outputs": [],
      "source": [
        "#vapeplot.set_palette('jazzcup')\n",
        "\n",
        "matplotlib.style.use(\"./gruvbox.mplstyle\")\n",
        "plt.rcParams['figure.facecolor'] = '#282828'\n",
        "\n",
        "fig, ax = plt.subplots(ncols=2, nrows=2, figsize=(16,9))\n",
        "df = scatter()\n",
        "f= ax[0,0].scatter(df.X,df.Y, c=df.Z, s=50)\n",
        "ax[0,0].set_xlabel('X data')\n",
        "ax[0,0].set_ylabel('Y data')\n",
        "handles, labels = f.legend_elements(prop=\"colors\", alpha=0.6)\n",
        "legend2 = ax[0,0].legend(handles, labels, loc=\"lower right\")\n",
        "\n",
        "df=line()\n",
        "df.plot(x='X', ax=ax[0,1])\n",
        "\n",
        "df=hist()\n",
        "sns.kdeplot(df, fill=True, ax=ax[1,0])\n",
        "ax[1,0].set_xlabel('Value')\n",
        "\n",
        "sns.kdeplot(df, x=\"X_1\", y=\"X_2\", fill=True, ax=ax[1,1])\n",
        "sns.kdeplot(df, x=\"X_3\", y=\"X_4\",fill=True, ax=ax[1,1])\n",
        "ax[1,1].set_xlabel('Dist 1')\n",
        "ax[1,1].set_ylabel('Dist 2')\n",
        "\n",
        "plt.suptitle('GruvBox', fontsize=24)\n",
        "plt.savefig('GruvBox.png')\n",
        "plt.show()"
      ]
    },
    {
      "cell_type": "code",
      "execution_count": null,
      "metadata": {
        "colab": {
          "base_uri": "https://localhost:8080/",
          "height": 1000
        },
        "id": "6XfhK1rwqW0Y",
        "outputId": "a7bbe63f-c3e7-4ca7-8c80-36f640f84d50"
      },
      "outputs": [],
      "source": [
        "plt.style.use(\"cyberpunk\")\n",
        "\n",
        "fig, ax = plt.subplots(ncols=2, nrows=2, figsize=(16,9))\n",
        "df = scatter()\n",
        "f= ax[0,0].scatter(df.X,df.Y, c=df.Z, s=50)\n",
        "ax[0,0].set_xlabel('X data')\n",
        "ax[0,0].set_ylabel('Y data')\n",
        "handles, labels = f.legend_elements(prop=\"colors\", alpha=0.6)\n",
        "legend2 = ax[0,0].legend(handles, labels, loc=\"lower right\")\n",
        "\n",
        "\n",
        "df=line()\n",
        "df.plot(x='X', ax=ax[0,1])\n",
        "mplcyberpunk.make_lines_glow(ax=ax[0,1])\n",
        "\n",
        "df=hist()\n",
        "sns.kdeplot(df, fill=True, ax=ax[1,0])\n",
        "ax[1,0].set_xlabel('Value')\n",
        "\n",
        "\n",
        "sns.kdeplot(df, x=\"X_1\", y=\"X_2\", fill=True, ax=ax[1,1])\n",
        "sns.kdeplot(df, x=\"X_3\", y=\"X_4\",fill=True, ax=ax[1,1])\n",
        "ax[1,1].set_xlabel('Dist 1')\n",
        "ax[1,1].set_ylabel('Dist 2')\n",
        "\n",
        "plt.suptitle('mplcyberpunk', fontsize=24)\n",
        "plt.savefig('Cyberpank.png')\n",
        "plt.show()"
      ]
    },
    {
      "cell_type": "code",
      "execution_count": null,
      "metadata": {
        "colab": {
          "base_uri": "https://localhost:8080/",
          "height": 1000
        },
        "id": "rdtWUkr0tCEO",
        "outputId": "0ffff67e-cac7-44ca-c479-bcbd9312369a"
      },
      "outputs": [],
      "source": [
        "with plt.style.context(matplotx.styles.duftify(matplotx.styles.dracula)):\n",
        "\n",
        "  fig, ax = plt.subplots(ncols=2, nrows=2, figsize=(16,9))\n",
        "  df = scatter()\n",
        "  f= ax[0,0].scatter(df.X,df.Y, c=df.Z, s=50)\n",
        "  ax[0,0].set_xlabel('X data')\n",
        "  ax[0,0].set_ylabel('Y data')\n",
        "  handles, labels = f.legend_elements(prop=\"colors\", alpha=0.6)\n",
        "  legend2 = ax[0,0].legend(handles, labels, loc=\"lower right\")\n",
        "\n",
        "  df=line()\n",
        "  df.plot(x='X', ax=ax[0,1])\n",
        "\n",
        "  df=hist()\n",
        "  sns.kdeplot(df, fill=True, ax=ax[1,0])\n",
        "  ax[1,0].set_xlabel('Value')\n",
        "\n",
        "  sns.kdeplot(df, x=\"X_1\", y=\"X_2\", fill=True, ax=ax[1,1])\n",
        "  sns.kdeplot(df, x=\"X_3\", y=\"X_4\",fill=True, ax=ax[1,1])\n",
        "  ax[1,1].set_xlabel('Dist 1')\n",
        "  ax[1,1].set_ylabel('Dist 2')\n",
        "\n",
        "  plt.suptitle('matplotx', fontsize=24)\n",
        "  plt.savefig('aura.png')\n",
        "  plt.show()"
      ]
    }
  ],
  "metadata": {
    "colab": {
      "provenance": []
    },
    "kernelspec": {
      "display_name": "Python 3",
      "name": "python3"
    },
    "language_info": {
      "codemirror_mode": {
        "name": "ipython",
        "version": 3
      },
      "file_extension": ".py",
      "mimetype": "text/x-python",
      "name": "python",
      "nbconvert_exporter": "python",
      "pygments_lexer": "ipython3",
      "version": "3.11.5"
    }
  },
  "nbformat": 4,
  "nbformat_minor": 0
}
